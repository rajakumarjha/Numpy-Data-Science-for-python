{
 "cells": [
  {
   "cell_type": "code",
   "execution_count": 4,
   "metadata": {},
   "outputs": [
    {
     "name": "stdout",
     "output_type": "stream",
     "text": [
      "[0 1 2 3]\n",
      "[0 1 2 3 4 5 6 7 8 9]\n"
     ]
    }
   ],
   "source": [
    "#Numpy\n",
    "#it is extension package for multi dimentional array.\n",
    "#Numpy has many atributes in it.\n",
    "import numpy as np\n",
    "a=np.array([0,1,2,3])\n",
    "print(a)\n",
    "print(np.arange(10))"
   ]
  },
  {
   "cell_type": "code",
   "execution_count": 9,
   "metadata": {},
   "outputs": [
    {
     "name": "stdout",
     "output_type": "stream",
     "text": [
      "3.87 ms ± 60.7 µs per loop (mean ± std. dev. of 7 runs, 100 loops each)\n",
      "9.71 µs ± 501 ns per loop (mean ± std. dev. of 7 runs, 100000 loops each)\n"
     ]
    }
   ],
   "source": [
    "# Using this we can do fast numerical operations. In the scence of time for creating and updating is much less in numpy\n",
    "a=range(10000)\n",
    "%timeit[i**2 for i in a]\n",
    "b=np.arange(10000)\n",
    "%timeit b**2\n",
    "#9.71 microSecond is musch lesser than 3.87 milisecond"
   ]
  },
  {
   "cell_type": "code",
   "execution_count": 22,
   "metadata": {},
   "outputs": [
    {
     "name": "stdout",
     "output_type": "stream",
     "text": [
      "[[1 2 3]\n",
      " [4 5 0]]\n",
      "2\n"
     ]
    },
    {
     "data": {
      "text/plain": [
       "(2, 3)"
      ]
     },
     "execution_count": 22,
     "metadata": {},
     "output_type": "execute_result"
    }
   ],
   "source": [
    "#check dimension of given array\n",
    "a = np.array([[1,2,3],[4,5,0]])\n",
    "print(a)\n",
    "print(a.ndim)  \n",
    "a.shape"
   ]
  },
  {
   "cell_type": "code",
   "execution_count": 28,
   "metadata": {},
   "outputs": [
    {
     "name": "stdout",
     "output_type": "stream",
     "text": [
      "[[ 1  2  3]\n",
      " [ 4  5  6]\n",
      " [ 7  8  9]\n",
      " [14 25 36]]\n",
      "2\n",
      "(4, 3)\n"
     ]
    }
   ],
   "source": [
    "# we can create array of n-dimension as well..... \n",
    "a=np.array([[1,2,3],[4,5,6],[7,8,9],[14,25,36]])\n",
    "print(a)\n",
    "print(a.ndim)\n",
    "print(a.shape)\n",
    "# 1D arrays are called as Vector\n",
    "# 2D arrays are called as matrix\n",
    "# nD arrays are called as tensors"
   ]
  },
  {
   "cell_type": "code",
   "execution_count": 30,
   "metadata": {},
   "outputs": [
    {
     "name": "stdout",
     "output_type": "stream",
     "text": [
      "[[1. 1. 1.]\n",
      " [1. 1. 1.]\n",
      " [1. 1. 1.]]\n",
      "[[0. 0. 0.]\n",
      " [0. 0. 0.]\n",
      " [0. 0. 0.]]\n",
      "[[1. 0. 0.]\n",
      " [0. 1. 0.]\n",
      " [0. 0. 1.]]\n"
     ]
    }
   ],
   "source": [
    "# Commonly used arrays\n",
    "# matrix of all 1's\n",
    "a=np.ones((3,3))\n",
    "print(a)\n",
    "#Zero matrix\n",
    "a=np.zeros((3,3))\n",
    "print(a)\n",
    "#Identity matrix\n",
    "a=np.eye(3)\n",
    "print(a)"
   ]
  },
  {
   "cell_type": "code",
   "execution_count": 33,
   "metadata": {},
   "outputs": [
    {
     "name": "stdout",
     "output_type": "stream",
     "text": [
      "[[1 0 0 0]\n",
      " [0 2 0 0]\n",
      " [0 0 3 0]\n",
      " [0 0 0 1]]\n"
     ]
    }
   ],
   "source": [
    "a=np.diag([1,2,3,1])\n",
    "print(a)\n",
    "# datatype can also be sent as a parameter "
   ]
  },
  {
   "cell_type": "code",
   "execution_count": 36,
   "metadata": {},
   "outputs": [
    {
     "name": "stdout",
     "output_type": "stream",
     "text": [
      "[0 1 2 3 4]\n"
     ]
    }
   ],
   "source": [
    "# slicing : Similar to list, Strings only\n",
    "a=np.arange(10)\n",
    "print(a[0:5])"
   ]
  },
  {
   "cell_type": "code",
   "execution_count": 38,
   "metadata": {},
   "outputs": [
    {
     "name": "stdout",
     "output_type": "stream",
     "text": [
      "[[1 0 2]\n",
      " [2 5 7]]\n",
      "Update 1,1\n",
      "[[1 0 2]\n",
      " [2 9 7]]\n"
     ]
    }
   ],
   "source": [
    "#Updating values in array\n",
    "a=np.array([[1,0,2],[2,5,7]])\n",
    "print(a)\n",
    "print(\"Update 1,1\")\n",
    "a[1,1]=9\n",
    "print(a)"
   ]
  },
  {
   "cell_type": "code",
   "execution_count": 39,
   "metadata": {},
   "outputs": [
    {
     "name": "stdout",
     "output_type": "stream",
     "text": [
      "[10 10 10 10 10  5  6  7  8  9]\n"
     ]
    }
   ],
   "source": [
    "#Combine assignment and slicing\n",
    "a=np.arange(10)\n",
    "a[0:5]=10\n",
    "print(a)\n"
   ]
  },
  {
   "cell_type": "code",
   "execution_count": 43,
   "metadata": {},
   "outputs": [
    {
     "name": "stdout",
     "output_type": "stream",
     "text": [
      "False\n",
      "True\n"
     ]
    }
   ],
   "source": [
    "# For memory optimiszation numpy points to same memory address\n",
    "a=np.arange(5)\n",
    "b=np.array([1,2,3,4,5])\n",
    "c=a[0:2]\n",
    "print(np.may_share_memory(a,b))\n",
    "print(np.may_share_memory(a,c))\n",
    "# c and a are pointing to same memory location only so updating c will update a only.\n",
    "#Numpy thinks that any slice has been created for temporary use only"
   ]
  },
  {
   "cell_type": "code",
   "execution_count": 44,
   "metadata": {},
   "outputs": [],
   "source": [
    "# fancy indexing can also be done. We can have slices indexing an integer as well as a bolean or integer arrays.\n",
    "#using this we can control the way we want to write a code."
   ]
  },
  {
   "cell_type": "code",
   "execution_count": 47,
   "metadata": {},
   "outputs": [
    {
     "name": "stdout",
     "output_type": "stream",
     "text": [
      "[2 3 4 5]\n",
      "[ 4  6  8 10]\n"
     ]
    }
   ],
   "source": [
    "# Opeartions on numpy\n",
    "# With Scalars we can do any basic operations like addition, multiplication etc. \n",
    "a=np.array([1,2,3,4])\n",
    "a=a+1\n",
    "print(a)\n",
    "a=a*2;\n",
    "print(a)"
   ]
  },
  {
   "cell_type": "code",
   "execution_count": 54,
   "metadata": {},
   "outputs": [
    {
     "name": "stdout",
     "output_type": "stream",
     "text": [
      "[ 1  3  5  7  9 11]\n",
      "[1 1 1 1 1 1]\n",
      "[ 0  2  6 12 20 30]\n",
      "[False False False False False False]\n"
     ]
    }
   ],
   "source": [
    "#Element wise additon, subtrction, multiplication between two arrays.\n",
    "a=np.array([1,2,3,4,5,6])\n",
    "b=np.arange(6)\n",
    "print(a+b)\n",
    "print(a-b)\n",
    "print(a*b)\n",
    "#element wise comparsion can also be done\n",
    "print(a==b)"
   ]
  },
  {
   "cell_type": "code",
   "execution_count": 55,
   "metadata": {},
   "outputs": [
    {
     "name": "stdout",
     "output_type": "stream",
     "text": [
      "[[  1   0   0   0]\n",
      " [  0 441   0   0]\n",
      " [  0   0   9   0]\n",
      " [  0   0   0  16]]\n",
      "**************\n",
      "[[  1   0   0   0]\n",
      " [  0 441   0   0]\n",
      " [  0   0   9   0]\n",
      " [  0   0   0  16]]\n",
      "[False False False False False False]\n"
     ]
    }
   ],
   "source": [
    "# Matrix multiplication\n",
    "c=np.diag([1,21,3,4])\n",
    "# matrix multiplication is damm easy. Just go like below\n",
    "print(c*c)\n",
    "print(\"**************\")\n",
    "print(c.dot(c))\n",
    "c=np.diag([1,21,3,9])\n",
    "print(a==b)"
   ]
  },
  {
   "cell_type": "code",
   "execution_count": 80,
   "metadata": {},
   "outputs": [
    {
     "name": "stdout",
     "output_type": "stream",
     "text": [
      "[ 0.          0.84147098  0.90929743  0.14112001 -0.7568025 ]\n",
      "[ 1.          0.54030231 -0.41614684 -0.9899925  -0.65364362]\n",
      "[      -inf 0.         0.69314718 1.09861229 1.38629436]\n",
      "[ 1.          2.71828183  7.3890561  20.08553692 54.59815003]\n"
     ]
    },
    {
     "name": "stderr",
     "output_type": "stream",
     "text": [
      "C:\\Users\\Temp\\Anaconda3\\lib\\site-packages\\ipykernel_launcher.py:6: RuntimeWarning: divide by zero encountered in log\n",
      "  \n"
     ]
    }
   ],
   "source": [
    "# Mathematical functions sin,cos etc\n",
    "a=np.arange(5)\n",
    "print(np.sin(a))\n",
    "# this cosine function is very usefull later we have to deal with his.\n",
    "print(np.cos(a))\n",
    "print(np.log(a))\n",
    "print(np.exp(a))"
   ]
  },
  {
   "cell_type": "code",
   "execution_count": 65,
   "metadata": {},
   "outputs": [
    {
     "name": "stdout",
     "output_type": "stream",
     "text": [
      "Vertical addition // Column wise\n",
      "[12 15 18]\n",
      "Horizontal addtion // Row wise\n"
     ]
    },
    {
     "data": {
      "text/plain": [
       "array([ 6, 15, 24])"
      ]
     },
     "execution_count": 65,
     "metadata": {},
     "output_type": "execute_result"
    }
   ],
   "source": [
    "# numpy has also sum,max,min, these function for 1D array and sum(axis=0||axis=1) for n dimensional\n",
    "a=np.array([[1,2,3],[4,5,6],[7,8,9]])\n",
    "print(\"Vertical addition\",\"//\",\"Column wise\")\n",
    "print(a.sum(axis=0))\n",
    "print(\"Horizontal addtion\",\"//\",\"Row wise\")\n",
    "a.sum(axis=1)"
   ]
  },
  {
   "cell_type": "code",
   "execution_count": 69,
   "metadata": {},
   "outputs": [
    {
     "name": "stdout",
     "output_type": "stream",
     "text": [
      "Min\n",
      "1\n",
      "Sum\n",
      "32\n",
      "Max\n",
      "9\n",
      "Mean\n",
      "5.333333333333333\n",
      "median\n",
      "5.5\n",
      "std\n",
      "2.748737083745107\n"
     ]
    }
   ],
   "source": [
    "# Satatistics\n",
    "a=np.array([1,5,9,3,6,8])\n",
    "print(\"Min\")\n",
    "print(np.min(a))\n",
    "print(\"Sum\")\n",
    "print(np.sum(a))\n",
    "print(\"Max\")\n",
    "print(np.max(a))\n",
    "print(\"Mean\")\n",
    "print(np.mean(a))\n",
    "print(\"median\")\n",
    "print(np.median(a))\n",
    "print(\"std\")\n",
    "print(np.std(a))"
   ]
  },
  {
   "cell_type": "code",
   "execution_count": 74,
   "metadata": {},
   "outputs": [
    {
     "name": "stdout",
     "output_type": "stream",
     "text": [
      "printing a ******\n",
      "[0 1 2]\n",
      "printing b *******\n",
      "[[1 2 3]\n",
      " [4 5 6]]\n",
      "Printing a+b: ****\n",
      "[[1 3 5]\n",
      " [4 6 8]]\n"
     ]
    }
   ],
   "source": [
    "#Broadcasting: It is an important concept in numpy that accept any diemnsional tensors and add it with any other dimensional array.\n",
    "a=np.arange(3)\n",
    "a=a.T #To take a transpose\n",
    "b=np.array([[1,2,3],[4,5,6]])\n",
    "print(\"printing a ******\")\n",
    "print(a)\n",
    "print(\"printing b *******\")\n",
    "print(b)\n",
    "print(\"Printing a+b: ****\")\n",
    "print(a+b)"
   ]
  },
  {
   "cell_type": "code",
   "execution_count": null,
   "metadata": {},
   "outputs": [],
   "source": [
    "# reshape is a cool function used to reshape an array into a matrix"
   ]
  },
  {
   "cell_type": "code",
   "execution_count": 79,
   "metadata": {},
   "outputs": [
    {
     "name": "stdout",
     "output_type": "stream",
     "text": [
      "[[ 5  7 61]\n",
      " [ 1  3 20]]\n",
      "Or we can go with: in place sort\n",
      "[[ 5  7 61]\n",
      " [ 1  3 20]]\n"
     ]
    }
   ],
   "source": [
    "# sorting data row wise\n",
    "a=np.array([[5,61,7],[1,20,3]])\n",
    "b=np.sort(a,axis=1)\n",
    "print(b)\n",
    "print(\"Or we can go with: in place sort\")\n",
    "a.sort()\n",
    "print(a)"
   ]
  },
  {
   "cell_type": "code",
   "execution_count": null,
   "metadata": {},
   "outputs": [],
   "source": []
  }
 ],
 "metadata": {
  "kernelspec": {
   "display_name": "Python 3",
   "language": "python",
   "name": "python3"
  },
  "language_info": {
   "codemirror_mode": {
    "name": "ipython",
    "version": 3
   },
   "file_extension": ".py",
   "mimetype": "text/x-python",
   "name": "python",
   "nbconvert_exporter": "python",
   "pygments_lexer": "ipython3",
   "version": "3.6.4"
  }
 },
 "nbformat": 4,
 "nbformat_minor": 2
}
